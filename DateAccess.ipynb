{
 "cells": [
  {
   "cell_type": "code",
   "execution_count": 26,
   "id": "initial_id",
   "metadata": {
    "collapsed": true,
    "ExecuteTime": {
     "end_time": "2024-03-18T09:15:52.113155700Z",
     "start_time": "2024-03-18T09:15:51.771367400Z"
    }
   },
   "outputs": [],
   "source": [
    "import pandas as pd\n",
    "import numpy as np\n",
    "import os\n",
    "import tqdm \n",
    "import logging\n",
    "import matplotlib.pyplot as plt"
   ]
  },
  {
   "cell_type": "markdown",
   "source": [
    "# Data Preprocessing\n",
    "1. Please modify the categorial variables into dummy variables (e.g., season, weathersit, month, hour, weekday)\n",
    "2. Normalize continuous variables using z-score (mean=0,sd=1).\n",
    "3. Exclude the useless features in your training and modeling.\n",
    "4. Separate the training and validation data. Use the last 21 days’ data for\n",
    "validation. Note that the target column is “cnt”. The other two “causal” and\n",
    "“registered” could be overlooked and should not be used as variables in your\n",
    "code. "
   ],
   "metadata": {
    "collapsed": false
   },
   "id": "b469780d134d2838"
  },
  {
   "cell_type": "code",
   "execution_count": 31,
   "outputs": [],
   "source": [
    "class DataPreProcess(object):\n",
    "    SourceDataPath='bikeRidershipPredictionDataHour.csv'\n",
    "    DataSaveFolder='DataPreProcessed'\n",
    "    # The categorial variables\n",
    "    CategoryVariables=['season','yr','mnth','hr','holiday','weekday','workingday','weathersit']\n",
    "    # The continuous variables\n",
    "    ContinuousVariables=['temp','atemp','hum','windspeed']\n",
    "    # The target variable\n",
    "    TargetVariable='cnt'\n",
    "    def FileSystemMaker(self):\n",
    "        # Create the folder for saving the preprocessed data\n",
    "        if not os.path.exists(self.DataSaveFolder):\n",
    "            os.makedirs(self.DataSaveFolder)\n",
    "        if self.IfDummy:\n",
    "            self.DummyFolder=os.path.join(self.DataSaveFolder,'Dummy')\n",
    "            if not os.path.exists(self.DummyFolder):\n",
    "                os.makedirs(self.DummyFolder)\n",
    "        if self.IfNormalize:\n",
    "            self.NormalizeFolder=os.path.join(self.DataSaveFolder,'Normalize')\n",
    "            if not os.path.exists(self.NormalizeFolder):\n",
    "                os.makedirs(self.NormalizeFolder)\n",
    "        if self.IfSeparate:\n",
    "            self.SeparateFolder=os.path.join(self.DataSaveFolder,'Separated')\n",
    "            if not os.path.exists(self.SeparateFolder):\n",
    "                os.makedirs(self.SeparateFolder)\n",
    "    def DummyVariables(self):\n",
    "        # Create the dummy variables for the categorial variables\n",
    "        for i in tqdm.tqdm(self.CategoryVariables,desc='Creating Dummy Variables'):\n",
    "            DummyData=pd.get_dummies(self.RawData[i],drop_first=False, prefix=i)\n",
    "            DummyResult=pd.concat([self.RawData,DummyData],axis=1)\n",
    "            # Remove the original categorial variables\n",
    "            Columns=self.RawData.columns.tolist()\n",
    "            # Save the dummy variables and the key variable\n",
    "            Columns.remove('instant')\n",
    "            DummyResult.drop(Columns,axis=1,inplace=True)\n",
    "            DummyResult.to_csv(os.path.join(self.DummyFolder,i+'.csv'),index=False)\n",
    "    def NormalizeVariables(self,target_mean=0,target_sd=1):\n",
    "        # Normalize the continuous variables\n",
    "        for i in tqdm.tqdm(self.ContinuousVariables,desc='Normalizing Variables'):\n",
    "            Mean=self.RawData[i].mean()\n",
    "            SD=self.RawData[i].std()\n",
    "            NormalizedData=(self.RawData[i]-Mean)/SD\n",
    "            NormalizedData=NormalizedData*target_sd+target_mean\n",
    "            NormalizedData=pd.concat([self.RawData['instant'],NormalizedData],axis=1)\n",
    "            NormalizedData.to_csv(os.path.join(self.NormalizeFolder,i+'.csv'),index=False)\n",
    "    def __init__(self,IfCheckInfo=False,IfDummy=True,IfNormalize=True,IfExclude=True,IfSeparate=True):\n",
    "        # Read the source data\n",
    "        self.RawData=pd.read_csv(self.SourceDataPath)\n",
    "        # Check the basic information of the source data\n",
    "        if IfCheckInfo:\n",
    "            self.RawData.info()\n",
    "        # Set the parameters for preprocessing\n",
    "        self.IfDummy=IfDummy\n",
    "        self.IfNormalize=IfNormalize\n",
    "        self.IfExclude=IfExclude\n",
    "        self.IfSeparate=IfSeparate\n",
    "        # Create the folder for saving the preprocessed data\n",
    "        self.FileSystemMaker()\n",
    "        if self.IfDummy:\n",
    "            self.DummyVariables()\n",
    "        if self.IfNormalize:\n",
    "            self.NormalizeVariables()"
   ],
   "metadata": {
    "collapsed": false,
    "ExecuteTime": {
     "end_time": "2024-03-18T09:20:23.721030700Z",
     "start_time": "2024-03-18T09:20:23.706033800Z"
    }
   },
   "id": "db6d2cccb2023978"
  },
  {
   "cell_type": "code",
   "execution_count": 34,
   "outputs": [
    {
     "name": "stdout",
     "output_type": "stream",
     "text": [
      "<class 'pandas.core.frame.DataFrame'>\n",
      "RangeIndex: 17379 entries, 0 to 17378\n",
      "Data columns (total 17 columns):\n",
      " #   Column      Non-Null Count  Dtype  \n",
      "---  ------      --------------  -----  \n",
      " 0   instant     17379 non-null  int64  \n",
      " 1   dteday      17379 non-null  object \n",
      " 2   season      17379 non-null  int64  \n",
      " 3   yr          17379 non-null  int64  \n",
      " 4   mnth        17379 non-null  int64  \n",
      " 5   hr          17379 non-null  int64  \n",
      " 6   holiday     17379 non-null  int64  \n",
      " 7   weekday     17379 non-null  int64  \n",
      " 8   workingday  17379 non-null  int64  \n",
      " 9   weathersit  17379 non-null  int64  \n",
      " 10  temp        17379 non-null  float64\n",
      " 11  atemp       17379 non-null  float64\n",
      " 12  hum         17379 non-null  float64\n",
      " 13  windspeed   17379 non-null  float64\n",
      " 14  casual      17379 non-null  int64  \n",
      " 15  registered  17379 non-null  int64  \n",
      " 16  cnt         17379 non-null  int64  \n",
      "dtypes: float64(4), int64(12), object(1)\n",
      "memory usage: 2.3+ MB\n"
     ]
    }
   ],
   "source": [
    "# Check the basic information of the source data\n",
    "RawData=DataPreProcess(IfCheckInfo=True,IfDummy=False,IfNormalize=False,IfExclude=False,IfSeparate=False).RawData"
   ],
   "metadata": {
    "collapsed": false,
    "ExecuteTime": {
     "end_time": "2024-03-18T09:21:40.879111100Z",
     "start_time": "2024-03-18T09:21:40.849340100Z"
    }
   },
   "id": "65f5c27004fa6782"
  },
  {
   "cell_type": "code",
   "execution_count": 30,
   "outputs": [
    {
     "data": {
      "text/plain": "          instant        season            yr          mnth            hr  \\\ncount  17379.0000  17379.000000  17379.000000  17379.000000  17379.000000   \nmean    8690.0000      2.501640      0.502561      6.537775     11.546752   \nstd     5017.0295      1.106918      0.500008      3.438776      6.914405   \nmin        1.0000      1.000000      0.000000      1.000000      0.000000   \n25%     4345.5000      2.000000      0.000000      4.000000      6.000000   \n50%     8690.0000      3.000000      1.000000      7.000000     12.000000   \n75%    13034.5000      3.000000      1.000000     10.000000     18.000000   \nmax    17379.0000      4.000000      1.000000     12.000000     23.000000   \n\n            holiday       weekday    workingday    weathersit          temp  \\\ncount  17379.000000  17379.000000  17379.000000  17379.000000  17379.000000   \nmean       0.028770      3.003683      0.682721      1.425283      0.496987   \nstd        0.167165      2.005771      0.465431      0.639357      0.192556   \nmin        0.000000      0.000000      0.000000      1.000000      0.020000   \n25%        0.000000      1.000000      0.000000      1.000000      0.340000   \n50%        0.000000      3.000000      1.000000      1.000000      0.500000   \n75%        0.000000      5.000000      1.000000      2.000000      0.660000   \nmax        1.000000      6.000000      1.000000      4.000000      1.000000   \n\n              atemp           hum     windspeed        casual    registered  \\\ncount  17379.000000  17379.000000  17379.000000  17379.000000  17379.000000   \nmean       0.475775      0.627229      0.190098     35.676218    153.786869   \nstd        0.171850      0.192930      0.122340     49.305030    151.357286   \nmin        0.000000      0.000000      0.000000      0.000000      0.000000   \n25%        0.333300      0.480000      0.104500      4.000000     34.000000   \n50%        0.484800      0.630000      0.194000     17.000000    115.000000   \n75%        0.621200      0.780000      0.253700     48.000000    220.000000   \nmax        1.000000      1.000000      0.850700    367.000000    886.000000   \n\n                cnt  \ncount  17379.000000  \nmean     189.463088  \nstd      181.387599  \nmin        1.000000  \n25%       40.000000  \n50%      142.000000  \n75%      281.000000  \nmax      977.000000  ",
      "text/html": "<div>\n<style scoped>\n    .dataframe tbody tr th:only-of-type {\n        vertical-align: middle;\n    }\n\n    .dataframe tbody tr th {\n        vertical-align: top;\n    }\n\n    .dataframe thead th {\n        text-align: right;\n    }\n</style>\n<table border=\"1\" class=\"dataframe\">\n  <thead>\n    <tr style=\"text-align: right;\">\n      <th></th>\n      <th>instant</th>\n      <th>season</th>\n      <th>yr</th>\n      <th>mnth</th>\n      <th>hr</th>\n      <th>holiday</th>\n      <th>weekday</th>\n      <th>workingday</th>\n      <th>weathersit</th>\n      <th>temp</th>\n      <th>atemp</th>\n      <th>hum</th>\n      <th>windspeed</th>\n      <th>casual</th>\n      <th>registered</th>\n      <th>cnt</th>\n    </tr>\n  </thead>\n  <tbody>\n    <tr>\n      <th>count</th>\n      <td>17379.0000</td>\n      <td>17379.000000</td>\n      <td>17379.000000</td>\n      <td>17379.000000</td>\n      <td>17379.000000</td>\n      <td>17379.000000</td>\n      <td>17379.000000</td>\n      <td>17379.000000</td>\n      <td>17379.000000</td>\n      <td>17379.000000</td>\n      <td>17379.000000</td>\n      <td>17379.000000</td>\n      <td>17379.000000</td>\n      <td>17379.000000</td>\n      <td>17379.000000</td>\n      <td>17379.000000</td>\n    </tr>\n    <tr>\n      <th>mean</th>\n      <td>8690.0000</td>\n      <td>2.501640</td>\n      <td>0.502561</td>\n      <td>6.537775</td>\n      <td>11.546752</td>\n      <td>0.028770</td>\n      <td>3.003683</td>\n      <td>0.682721</td>\n      <td>1.425283</td>\n      <td>0.496987</td>\n      <td>0.475775</td>\n      <td>0.627229</td>\n      <td>0.190098</td>\n      <td>35.676218</td>\n      <td>153.786869</td>\n      <td>189.463088</td>\n    </tr>\n    <tr>\n      <th>std</th>\n      <td>5017.0295</td>\n      <td>1.106918</td>\n      <td>0.500008</td>\n      <td>3.438776</td>\n      <td>6.914405</td>\n      <td>0.167165</td>\n      <td>2.005771</td>\n      <td>0.465431</td>\n      <td>0.639357</td>\n      <td>0.192556</td>\n      <td>0.171850</td>\n      <td>0.192930</td>\n      <td>0.122340</td>\n      <td>49.305030</td>\n      <td>151.357286</td>\n      <td>181.387599</td>\n    </tr>\n    <tr>\n      <th>min</th>\n      <td>1.0000</td>\n      <td>1.000000</td>\n      <td>0.000000</td>\n      <td>1.000000</td>\n      <td>0.000000</td>\n      <td>0.000000</td>\n      <td>0.000000</td>\n      <td>0.000000</td>\n      <td>1.000000</td>\n      <td>0.020000</td>\n      <td>0.000000</td>\n      <td>0.000000</td>\n      <td>0.000000</td>\n      <td>0.000000</td>\n      <td>0.000000</td>\n      <td>1.000000</td>\n    </tr>\n    <tr>\n      <th>25%</th>\n      <td>4345.5000</td>\n      <td>2.000000</td>\n      <td>0.000000</td>\n      <td>4.000000</td>\n      <td>6.000000</td>\n      <td>0.000000</td>\n      <td>1.000000</td>\n      <td>0.000000</td>\n      <td>1.000000</td>\n      <td>0.340000</td>\n      <td>0.333300</td>\n      <td>0.480000</td>\n      <td>0.104500</td>\n      <td>4.000000</td>\n      <td>34.000000</td>\n      <td>40.000000</td>\n    </tr>\n    <tr>\n      <th>50%</th>\n      <td>8690.0000</td>\n      <td>3.000000</td>\n      <td>1.000000</td>\n      <td>7.000000</td>\n      <td>12.000000</td>\n      <td>0.000000</td>\n      <td>3.000000</td>\n      <td>1.000000</td>\n      <td>1.000000</td>\n      <td>0.500000</td>\n      <td>0.484800</td>\n      <td>0.630000</td>\n      <td>0.194000</td>\n      <td>17.000000</td>\n      <td>115.000000</td>\n      <td>142.000000</td>\n    </tr>\n    <tr>\n      <th>75%</th>\n      <td>13034.5000</td>\n      <td>3.000000</td>\n      <td>1.000000</td>\n      <td>10.000000</td>\n      <td>18.000000</td>\n      <td>0.000000</td>\n      <td>5.000000</td>\n      <td>1.000000</td>\n      <td>2.000000</td>\n      <td>0.660000</td>\n      <td>0.621200</td>\n      <td>0.780000</td>\n      <td>0.253700</td>\n      <td>48.000000</td>\n      <td>220.000000</td>\n      <td>281.000000</td>\n    </tr>\n    <tr>\n      <th>max</th>\n      <td>17379.0000</td>\n      <td>4.000000</td>\n      <td>1.000000</td>\n      <td>12.000000</td>\n      <td>23.000000</td>\n      <td>1.000000</td>\n      <td>6.000000</td>\n      <td>1.000000</td>\n      <td>4.000000</td>\n      <td>1.000000</td>\n      <td>1.000000</td>\n      <td>1.000000</td>\n      <td>0.850700</td>\n      <td>367.000000</td>\n      <td>886.000000</td>\n      <td>977.000000</td>\n    </tr>\n  </tbody>\n</table>\n</div>"
     },
     "execution_count": 30,
     "metadata": {},
     "output_type": "execute_result"
    }
   ],
   "source": [
    "RawData.describe()"
   ],
   "metadata": {
    "collapsed": false,
    "ExecuteTime": {
     "end_time": "2024-03-18T09:17:28.794787900Z",
     "start_time": "2024-03-18T09:17:28.760462300Z"
    }
   },
   "id": "a0018998c6eb8b97"
  },
  {
   "cell_type": "code",
   "execution_count": null,
   "outputs": [],
   "source": [],
   "metadata": {
    "collapsed": false
   },
   "id": "29fb0ce58964ba65"
  }
 ],
 "metadata": {
  "kernelspec": {
   "display_name": "Python 3",
   "language": "python",
   "name": "python3"
  },
  "language_info": {
   "codemirror_mode": {
    "name": "ipython",
    "version": 2
   },
   "file_extension": ".py",
   "mimetype": "text/x-python",
   "name": "python",
   "nbconvert_exporter": "python",
   "pygments_lexer": "ipython2",
   "version": "2.7.6"
  }
 },
 "nbformat": 4,
 "nbformat_minor": 5
}
